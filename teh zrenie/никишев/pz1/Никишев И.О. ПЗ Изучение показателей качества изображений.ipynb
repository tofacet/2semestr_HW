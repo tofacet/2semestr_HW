{
 "cells": [
  {
   "attachments": {},
   "cell_type": "markdown",
   "metadata": {},
   "source": [
    "Никишев Иван Олегович 224-321 пз1 3.3 Изучение показателей качества изображений (90 минут)\n",
    "1. MSE (Mean squared error) Среднеквадратическая ошибка (MSE)\n",
    "Показатель определяет среднеквадратичное отклонение светлоты\n",
    "эталонного и обработанного изображений"
   ]
  },
  {
   "cell_type": "code",
   "execution_count": 1,
   "metadata": {},
   "outputs": [],
   "source": [
    "import cv2, numpy as np\n",
    "def mse(image1, image2):\n",
    "    return np.sum((image2 - image1)**2) / image1.size"
   ]
  },
  {
   "attachments": {},
   "cell_type": "markdown",
   "metadata": {},
   "source": [
    "2. Пиковое отношение сигнал-шум (PSNR)\n",
    "Пиковое отношение сигнала к шуму PSNR (англ. Peak Signal-to-Noise\n",
    "Ratio) Данная метрика характеризует соотношение между максимумом\n",
    "возможного значения сигнала и мощностью шума, искажающего значения сигнала. Поскольку многие сигналы имеют широкий динамический\n",
    "диапазон, PSNR обычно измеряется в логарифмической шкале в децибелах.\n"
   ]
  },
  {
   "cell_type": "code",
   "execution_count": 2,
   "metadata": {},
   "outputs": [],
   "source": [
    "def psnr(image1, image2):\n",
    "    import math\n",
    "    return math.log10(255/mse(image1, image2))"
   ]
  },
  {
   "attachments": {},
   "cell_type": "markdown",
   "metadata": {},
   "source": [
    "Мера структурного подобия (SSIM)\n",
    "Мера структурного подобия является развитием традиционных методов, таких как PSNR и MSE. Он учитывает изменение яркости и контраста, а также степень коррелированности между двумя изображениями."
   ]
  },
  {
   "cell_type": "code",
   "execution_count": 3,
   "metadata": {},
   "outputs": [],
   "source": [
    "from skimage.metrics import structural_similarity"
   ]
  },
  {
   "attachments": {},
   "cell_type": "markdown",
   "metadata": {},
   "source": [
    "### Изображения\n",
    "\n",
    "Ко всем изображениям применен единый набор искажений: шум, слабое размытие, и экспорт в формат JPEG с качеством 10.\n",
    "\n",
    "#### 1 группа\n",
    "\n",
    "Низкие детали:\n",
    "<img src=\"iamges/1l.jpg\" width=\"240\">\n",
    "<img src=\"iamges/1l.jpg_.jpeg\" width=\"240\">\n",
    "\n",
    "Средняя детальность:\n",
    "<img src=\"iamges/1m.png\" width=\"240\">\n",
    "<img src=\"iamges/1m.png_.jpeg\" width=\"240\">\n",
    "\n",
    "Высокая детализация:\n",
    "<img src=\"iamges/1h.jpg\" width=\"240\">\n",
    "<img src=\"iamges/1h.jpg_.jpeg\" width=\"240\">\n",
    "\n",
    "#### 2 группа\n",
    "\n",
    "Низкие детали:\n",
    "<img src=\"iamges/2l.jfif\" width=\"240\">\n",
    "<img src=\"iamges/2l.jfif_.jpeg\" width=\"240\">\n",
    "\n",
    "Средняя детальность:\n",
    "<img src=\"iamges/2m.webp\" width=\"240\">\n",
    "<img src=\"iamges/2m.webp_.jpeg\" width=\"240\">\n",
    "\n",
    "Высокая детализация:\n",
    "<img src=\"iamges/2h.jpg\" width=\"240\">\n",
    "<img src=\"iamges/2h.jpg_.jpeg\" width=\"240\">\n",
    "\n",
    "#### 3группа\n",
    "\n",
    "Низкие детали:\n",
    "<img src=\"iamges/3l.png\" width=\"240\">\n",
    "<img src=\"iamges/3l.png_.jpeg\" width=\"240\">\n",
    "\n",
    "Средняя детальность:\n",
    "<img src=\"iamges/3m.jpg\" width=\"240\">\n",
    "<img src=\"iamges/3m.jpg_.jpeg\" width=\"240\">\n",
    "\n",
    "Высокая детализация:\n",
    "<img src=\"iamges/3h.jpg\" width=\"240\">\n",
    "<img src=\"iamges/3h.jpg_.jpeg\" width=\"240\">\n",
    "\n",
    "Расчет трех показателей для полученных изображений:"
   ]
  },
  {
   "cell_type": "code",
   "execution_count": 4,
   "metadata": {},
   "outputs": [
    {
     "name": "stdout",
     "output_type": "stream",
     "text": [
      "1h.jpg, MSE = 89.20423590344963, PSNR = 0.4561547028984651, SSIM = 0.6406621575273169\n",
      "1l.jpg, MSE = 61.56349160206718, PSNR = 0.6172169373624158, SSIM = 0.9287608247643484\n",
      "1m.png, MSE = 49.42116122775607, PSNR = 0.7126272348174734, SSIM = 0.9149897084068241\n",
      "2h.jpg, MSE = 91.72965366546488, PSNR = 0.44403042664576786, SSIM = 0.6254015970754045\n",
      "2l.jfif, MSE = 105.81241927471436, PSNR = 0.3820035363081459, SSIM = 0.8910529547644863\n",
      "2m.webp, MSE = 101.88694262038774, PSNR = 0.3984216501200427, SSIM = 0.8123471593598109\n",
      "3h.jpg, MSE = 89.83485322896281, PSNR = 0.4530953178382698, SSIM = 0.45271752384292113\n",
      "3l.png, MSE = 0.11101190476190476, PSNR = 3.3611706260151117, SSIM = 0.997233369669587\n",
      "3m.jpg, MSE = 94.7404697445427, PSNR = 0.43000464670702643, SSIM = 0.6559320932580915\n"
     ]
    }
   ],
   "source": [
    "import cv2, os\n",
    "for i in os.listdir('iamges'):\n",
    "    if not i.endswith('.py') and not i.endswith('_.jpeg'):\n",
    "        image = cv2.imread('iamges/'+i)\n",
    "        imaged = cv2.imread('iamges/'+i+'_.jpeg')\n",
    "        \n",
    "        print(f'{i}, MSE = {mse(image, imaged)}, PSNR = {psnr(image, imaged)}, SSIM = {structural_similarity(image, imaged, channel_axis=2)}')"
   ]
  },
  {
   "attachments": {},
   "cell_type": "markdown",
   "metadata": {},
   "source": [
    "4. Таблица полученных значений показателей.\n",
    "\n",
    "<img src=\"таблица.png\">"
   ]
  },
  {
   "attachments": {},
   "cell_type": "markdown",
   "metadata": {},
   "source": [
    "Вывод\n",
    "\n",
    "Таким образом, можно заметить, что разброс значений MSE и PSNR в среднем уменьшается с увеличением количества деталей. Это можно объяснить тем, что выбранные способы искажения изображений влияют в большой степени на изображения с преобладанием градиентов, которые занимают наибольшую часть от общей площади в некоторых изображениях с малым кол-вом деталей, так как в результате экспорта изображений в JPEG низкого качества градиенты превращаются в резкие цветовые переходы. На изображения с малым количеством деталей без преобладающих градиентов способы искажения влияют значительно слабее. В то же время, на изображения с высоким количеством деталей значительное влияние оказывает размытие, эффективность которого зависит только от количества деталей - метрики, по схожести которой эти изображения были отобраны. Кроме того, PNSR обратно зависит от MSE. \n",
    "\n",
    "Значения SSIM понижаются с увеличением количества деталей. Так как модель SSIM основана на воспринимаемом изменении информации, действительно, можно увидеть, что пониженная глубина цвета, являющаяся последствием экспорта в формат JPEG с низким качеством, видна гораздо лучше на изображениях с низким количеством деталей. Это можно объяснить тем, на изображениях с высоким количеством деталей градиенты в среднем меньше по площади, они часто пересекаются границами деталей, что делает их значительно менее заметными."
   ]
  }
 ],
 "metadata": {
  "kernelspec": {
   "display_name": "Python 3",
   "language": "python",
   "name": "python3"
  },
  "language_info": {
   "codemirror_mode": {
    "name": "ipython",
    "version": 3
   },
   "file_extension": ".py",
   "mimetype": "text/x-python",
   "name": "python",
   "nbconvert_exporter": "python",
   "pygments_lexer": "ipython3",
   "version": "3.11.0"
  },
  "orig_nbformat": 4
 },
 "nbformat": 4,
 "nbformat_minor": 2
}
