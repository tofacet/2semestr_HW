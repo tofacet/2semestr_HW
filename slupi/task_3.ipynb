{
 "cells": [
  {
   "cell_type": "code",
   "execution_count": 10,
   "metadata": {},
   "outputs": [
    {
     "name": "stdout",
     "output_type": "stream",
     "text": [
      "Кровь моя холодна.\n",
      "Холод ее лютей\n",
      "реки, промерзшей до дна.\n",
      "Я не люблю людей\n",
      "['Кровь', 'моя', 'холодна.', 'Холод', 'ее', 'лютей', 'реки,', 'промерзшей', 'до', 'дна.', 'Я', 'не', 'люблю', 'людей']\n",
      "{'Кровь': ['моя'], 'моя': ['холодна.'], 'холодна.': ['Холод'], 'Холод': ['ее'], 'ее': ['лютей'], 'лютей': ['реки,'], 'реки,': ['промерзшей'], 'промерзшей': ['до'], 'до': ['дна.'], 'дна.': ['Я'], 'Я': ['не'], 'не': ['люблю'], 'люблю': ['людей']}\n",
      "до дна. Я не люблю людей\n"
     ]
    }
   ],
   "source": [
    "\n",
    "import numpy as np\n",
    "\n",
    "# Достаём данные\n",
    "data = open('Текст.txt', encoding='utf8').read()\n",
    "print(data)\n",
    "\n",
    "# Разделим данные на слова\n",
    "ind_words = data.split()\n",
    "print(ind_words)\n",
    "\n",
    "# Функция для связки пар слов (текущее слово - следующее слово)\n",
    "def make_pairs(ind_words):\n",
    "    pair_list = []\n",
    "    for i in range(len(ind_words) - 1):\n",
    "        pair_list.append((ind_words[i], ind_words[i + 1]))\n",
    "    return pair_list\n",
    "pair = make_pairs(ind_words)\n",
    "\n",
    "word_dict = {}\n",
    "for word_1, word_2 in pair:\n",
    "    # Eсли у нас в словаре уже есть запись о первом слове в паре, функция добавляет следующее потенциальное значение в список\n",
    "    if word_1 in word_dict.keys():\n",
    "        word_dict[word_1].append(word_2)\n",
    "    # Иначе: создаётся новая запись.\n",
    "    else:\n",
    "        word_dict[word_1] = [word_2]\n",
    "print(word_dict)\n",
    "\n",
    "# Генерируем текст\n",
    "select_word = np.random.choice(ind_words)       # Первое слово\n",
    "new_text = [select_word]                        # Массив сгенерированого текста\n",
    "while True:\n",
    "    select_word = np.random.choice(ind_words)   # Рандомное слово из всех слов \n",
    "    last_gen_word = new_text[-1]                 \n",
    "    if last_gen_word == 'людей': break; \n",
    "    val_key = word_dict[last_gen_word]\n",
    "    new_text.append(np.random.choice(val_key))\n",
    "    \n",
    "print(' '.join(new_text))"
   ]
  }
 ],
 "metadata": {
  "kernelspec": {
   "display_name": "Python 3",
   "language": "python",
   "name": "python3"
  },
  "language_info": {
   "codemirror_mode": {
    "name": "ipython",
    "version": 3
   },
   "file_extension": ".py",
   "mimetype": "text/x-python",
   "name": "python",
   "nbconvert_exporter": "python",
   "pygments_lexer": "ipython3",
   "version": "3.11.1"
  },
  "orig_nbformat": 4
 },
 "nbformat": 4,
 "nbformat_minor": 2
}
